{
 "cells": [
  {
   "cell_type": "code",
   "execution_count": 31,
   "metadata": {},
   "outputs": [],
   "source": [
    "import pandas as pd \n",
    "from dotenv import load_dotenv\n",
    "import os\n",
    "import numpy as np\n",
    "\n",
    "import mlflow\n",
    "from datetime import date"
   ]
  },
  {
   "cell_type": "code",
   "execution_count": 23,
   "metadata": {},
   "outputs": [],
   "source": [
    "# get environment variables\n",
    "load_dotenv(dotenv_path=\"../.env\")\n",
    "DATAPATH = os.getenv(\"DATAPATH\")\n",
    "MLFLOW_TRACKING_URI = os.getenv(\"MLFLOW_TRACKING_URI\")\n",
    "\n",
    "# Set other variables\n",
    "model_name = \"best-model-2023-08-03\"\n",
    "preprocessor_name = \"preprocessor-2023-08-03\"\n",
    "stage = \"Production\""
   ]
  },
  {
   "cell_type": "code",
   "execution_count": 19,
   "metadata": {},
   "outputs": [],
   "source": [
    "data = pd.read_pickle(f\"{DATAPATH}/BEL_20.pkl\").sort_values(\"Date\") # Load data\n",
    "\n",
    "# Find the maximum date in the DataFrame\n",
    "max_date = data.index.max()\n",
    "\n",
    "# Filter the DataFrame to get only the rows with the maximum date\n",
    "data = data[data.index == max_date]"
   ]
  },
  {
   "cell_type": "code",
   "execution_count": 20,
   "metadata": {},
   "outputs": [],
   "source": [
    "# Rename columns by shifting names one place to the left\n",
    "old_col_names = data.filter(like=\"close_growth\").columns.tolist()\n",
    "last_col_name = old_col_names[-1] # get last element\n",
    "old_col_names.pop() # remove last element from list\n",
    "\n",
    "new_col_names = data.filter(like=\"close_growth_lag\").columns.tolist()\n",
    "\n",
    "data = data.drop(columns=last_col_name) # drop last column"
   ]
  },
  {
   "cell_type": "code",
   "execution_count": 22,
   "metadata": {},
   "outputs": [],
   "source": [
    "# Using list comprehension to create the dictionary\n",
    "mapping = {old_col_names[i]: new_col_names[i] for i in range(len(old_col_names))}\n",
    "\n",
    "# Rename the columns using the dictionary\n",
    "data.rename(columns=mapping, inplace=True)"
   ]
  },
  {
   "cell_type": "code",
   "execution_count": 25,
   "metadata": {},
   "outputs": [],
   "source": [
    "# Load model\n",
    "preprocessor = mlflow.sklearn.load_model(model_uri=f\"models:/{preprocessor_name}/{stage}\")\n",
    "model = mlflow.pyfunc.load_model(model_uri=f\"models:/{model_name}/{stage}\")"
   ]
  },
  {
   "cell_type": "code",
   "execution_count": 43,
   "metadata": {},
   "outputs": [
    {
     "name": "stderr",
     "output_type": "stream",
     "text": [
      "/Users/timcosemans/.local/share/virtualenvs/PROJ-Algorithmic-Trading-enWZjsr5/lib/python3.11/site-packages/sklearn/base.py:464: UserWarning: X does not have valid feature names, but LinearRegression was fitted with feature names\n",
      "  warnings.warn(\n"
     ]
    }
   ],
   "source": [
    "# Make predictions\n",
    "data_reduced = preprocessor.transform(data)\n",
    "predictions = model.predict(data_reduced).tolist()\n",
    "\n",
    "# Give advice based on predictions\n",
    "advice = pd.DataFrame({\"ticker\": data[\"ticker\"], \"prediction\": predictions})\n",
    "advice[\"advice\"] = advice[\"prediction\"].apply(lambda x: \"BUY\" if x[0] > 0 else \"SELL\")\n",
    "advice.reset_index(drop=True, inplace=True)\n"
   ]
  },
  {
   "cell_type": "code",
   "execution_count": 44,
   "metadata": {},
   "outputs": [],
   "source": [
    "# Write predictions to json file\n",
    "advice.set_index(\"ticker\", inplace=False).to_json(f'{DATAPATH}/advice.json')"
   ]
  }
 ],
 "metadata": {
  "kernelspec": {
   "display_name": "PROJ-Algorithmic-Trading-enWZjsr5",
   "language": "python",
   "name": "python3"
  },
  "language_info": {
   "codemirror_mode": {
    "name": "ipython",
    "version": 3
   },
   "file_extension": ".py",
   "mimetype": "text/x-python",
   "name": "python",
   "nbconvert_exporter": "python",
   "pygments_lexer": "ipython3",
   "version": "3.11.4"
  },
  "orig_nbformat": 4
 },
 "nbformat": 4,
 "nbformat_minor": 2
}
