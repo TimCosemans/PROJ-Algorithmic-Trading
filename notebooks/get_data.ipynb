{
 "cells": [
  {
   "cell_type": "code",
   "execution_count": 70,
   "metadata": {},
   "outputs": [],
   "source": [
    "from dotenv import load_dotenv\n",
    "import os\n",
    "\n",
    "import requests\n",
    "from tabula import read_pdf\n",
    "import pandas as pd \n",
    "\n",
    "import yfinance as yf\n",
    "import numpy as np"
   ]
  },
  {
   "cell_type": "code",
   "execution_count": 68,
   "metadata": {},
   "outputs": [],
   "source": [
    "# get environment variables\n",
    "load_dotenv(dotenv_path=\"../.env\")\n",
    "DATAPATH = os.getenv(\"DATAPATH\")\n",
    "\n",
    "# Set other variables \n",
    "length_of_data = \"60d\"\n",
    "n_lags = 10"
   ]
  },
  {
   "cell_type": "code",
   "execution_count": 30,
   "metadata": {},
   "outputs": [],
   "source": [
    "# Get data from Euronext website\n",
    "url = \"https://live.euronext.com/sites/default/files/documentation/index-composition/BEL_20_Index_Composition.pdf\"\n",
    " # Get response object for link\n",
    "response = requests.get(url)\n",
    " \n",
    "# Write content in pdf file\n",
    "pdf = open(f\"{DATAPATH}/composition_BEL_20.pdf\", 'wb')\n",
    "pdf.write(response.content)\n",
    "pdf.close()"
   ]
  },
  {
   "cell_type": "code",
   "execution_count": 34,
   "metadata": {},
   "outputs": [],
   "source": [
    "table = read_pdf(f\"{DATAPATH}/composition_BEL_20.pdf\", pages=\"all\", multiple_tables=False, pandas_options={'header': None})[0] # Get data from pdf\n",
    "tickers = [f\"{ticker}.BR\" if country==\"BE\" else f\"{ticker}.AS\" for country, ticker in zip(table[1], table[2])] # Add .BR or .AS to tickers"
   ]
  },
  {
   "cell_type": "code",
   "execution_count": 77,
   "metadata": {},
   "outputs": [],
   "source": [
    "# Get data from Yahoo Finance\n",
    "data = pd.DataFrame()\n",
    "for ticker in tickers: \n",
    "    msft = yf.Ticker(ticker)\n",
    "    hist = msft.history(period=length_of_data)\n",
    "    hist['ticker'] = ticker\n",
    "    data = pd.concat([data, hist])"
   ]
  },
  {
   "cell_type": "code",
   "execution_count": 81,
   "metadata": {},
   "outputs": [],
   "source": [
    "data[\"close_previous_day\"] = data.groupby(\"ticker\")[\"Close\"].shift(1) # shift the close price by 1 day\n",
    "data[\"close_growth\"] = np.log(data[\"Close\"]) - np.log(data[\"close_previous_day\"]) # calculate the growth rate\n",
    "data.rename(columns={'Close': 'close'}, inplace=True) # rename the column\n",
    "\n",
    "for i in range(1, n_lags+1): \n",
    "    data[f\"close_growth_lag_{i}\"] = data.groupby(\"ticker\")[\"close_growth\"].shift(i) # shift the close price by i days"
   ]
  },
  {
   "cell_type": "code",
   "execution_count": 82,
   "metadata": {},
   "outputs": [],
   "source": [
    "# Write data to pickle file\n",
    "data.filter(regex='ticker|Date|close').to_pickle(f\"{DATAPATH}/BEL_20.pkl\")"
   ]
  }
 ],
 "metadata": {
  "kernelspec": {
   "display_name": "PROJ-Algorithmic-Trading-enWZjsr5",
   "language": "python",
   "name": "python3"
  },
  "language_info": {
   "codemirror_mode": {
    "name": "ipython",
    "version": 3
   },
   "file_extension": ".py",
   "mimetype": "text/x-python",
   "name": "python",
   "nbconvert_exporter": "python",
   "pygments_lexer": "ipython3",
   "version": "3.11.4"
  },
  "orig_nbformat": 4
 },
 "nbformat": 4,
 "nbformat_minor": 2
}
