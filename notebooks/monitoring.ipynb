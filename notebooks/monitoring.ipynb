{
 "cells": [
  {
   "cell_type": "code",
   "execution_count": 1,
   "metadata": {},
   "outputs": [
    {
     "name": "stderr",
     "output_type": "stream",
     "text": [
      "/Users/timcosemans/.local/share/virtualenvs/PROJ-Algorithmic-Trading-enWZjsr5/lib/python3.10/site-packages/umap/distances.py:1063: NumbaDeprecationWarning: \u001b[1mThe 'nopython' keyword argument was not supplied to the 'numba.jit' decorator. The implicit default value for this argument is currently False, but it will be changed to True in Numba 0.59.0. See https://numba.readthedocs.io/en/stable/reference/deprecation.html#deprecation-of-object-mode-fall-back-behaviour-when-using-jit for details.\u001b[0m\n",
      "  @numba.jit()\n",
      "/Users/timcosemans/.local/share/virtualenvs/PROJ-Algorithmic-Trading-enWZjsr5/lib/python3.10/site-packages/umap/distances.py:1071: NumbaDeprecationWarning: \u001b[1mThe 'nopython' keyword argument was not supplied to the 'numba.jit' decorator. The implicit default value for this argument is currently False, but it will be changed to True in Numba 0.59.0. See https://numba.readthedocs.io/en/stable/reference/deprecation.html#deprecation-of-object-mode-fall-back-behaviour-when-using-jit for details.\u001b[0m\n",
      "  @numba.jit()\n",
      "/Users/timcosemans/.local/share/virtualenvs/PROJ-Algorithmic-Trading-enWZjsr5/lib/python3.10/site-packages/umap/distances.py:1086: NumbaDeprecationWarning: \u001b[1mThe 'nopython' keyword argument was not supplied to the 'numba.jit' decorator. The implicit default value for this argument is currently False, but it will be changed to True in Numba 0.59.0. See https://numba.readthedocs.io/en/stable/reference/deprecation.html#deprecation-of-object-mode-fall-back-behaviour-when-using-jit for details.\u001b[0m\n",
      "  @numba.jit()\n",
      "/Users/timcosemans/.local/share/virtualenvs/PROJ-Algorithmic-Trading-enWZjsr5/lib/python3.10/site-packages/tqdm/auto.py:21: TqdmWarning: IProgress not found. Please update jupyter and ipywidgets. See https://ipywidgets.readthedocs.io/en/stable/user_install.html\n",
      "  from .autonotebook import tqdm as notebook_tqdm\n",
      "/Users/timcosemans/.local/share/virtualenvs/PROJ-Algorithmic-Trading-enWZjsr5/lib/python3.10/site-packages/umap/umap_.py:660: NumbaDeprecationWarning: \u001b[1mThe 'nopython' keyword argument was not supplied to the 'numba.jit' decorator. The implicit default value for this argument is currently False, but it will be changed to True in Numba 0.59.0. See https://numba.readthedocs.io/en/stable/reference/deprecation.html#deprecation-of-object-mode-fall-back-behaviour-when-using-jit for details.\u001b[0m\n",
      "  @numba.jit()\n"
     ]
    }
   ],
   "source": [
    "import pandas as pd \n",
    "from dotenv import load_dotenv\n",
    "import os\n",
    "import numpy as np\n",
    "\n",
    "import mlflow\n",
    "from datetime import date\n",
    "\n",
    "from evidently.metrics import DatasetDriftMetric, DataDriftTable, ColumnDriftMetric, RegressionQualityMetric\n",
    "from evidently.metric_preset import DataDriftPreset, TargetDriftPreset, DataQualityPreset, RegressionPreset\n",
    "from evidently.report import Report\n",
    "from evidently.ui.dashboards import CounterAgg, DashboardPanelCounter, DashboardPanelPlot, PanelValue, PlotType, ReportFilter\n",
    "from evidently.ui.workspace import Workspace\n"
   ]
  },
  {
   "cell_type": "code",
   "execution_count": 2,
   "metadata": {},
   "outputs": [],
   "source": [
    "# get environment variables\n",
    "load_dotenv(dotenv_path=\"../.env\")\n",
    "DATAPATH = os.getenv(\"DATAPATH\")\n",
    "MLFLOW_TRACKING_URI = os.getenv(\"MLFLOW_TRACKING_URI\")\n",
    "EVIDENTLY_WORKSPACE = os.getenv(\"EVIDENTLY_WORKSPACE\")\n",
    "\n",
    "# Set other variables\n",
    "model_name = f\"best-model-{date.today()}\"\n",
    "preprocessor_name = f\"preprocessor-{date.today()}\"\n",
    "stage = \"Production\"\n",
    "\n",
    "project_name = \"Algorithmic Trading\"\n"
   ]
  },
  {
   "cell_type": "code",
   "execution_count": 44,
   "metadata": {},
   "outputs": [
    {
     "name": "stderr",
     "output_type": "stream",
     "text": [
      "/Users/timcosemans/.local/share/virtualenvs/PROJ-Algorithmic-Trading-enWZjsr5/lib/python3.10/site-packages/sklearn/base.py:464: UserWarning:\n",
      "\n",
      "X does not have valid feature names, but LinearRegression was fitted with feature names\n",
      "\n",
      "/Users/timcosemans/.local/share/virtualenvs/PROJ-Algorithmic-Trading-enWZjsr5/lib/python3.10/site-packages/sklearn/base.py:464: UserWarning:\n",
      "\n",
      "X does not have valid feature names, but LinearRegression was fitted with feature names\n",
      "\n"
     ]
    }
   ],
   "source": [
    "# Load reference data\n",
    "reference_path = f\"{DATAPATH}/BEL_20_reference.pkl\" # Path to the reference dataset\n",
    "\n",
    "if not os.path.exists(reference_path): # If the reference dataset does not exist\n",
    "    ref_data = pd.read_pickle(f\"{DATAPATH}/BEL_20.pkl\") # Load data\n",
    "    ref_data.to_pickle(reference_path) # Save data as reference dataset\n",
    "else: # If the reference dataset exists\n",
    "    ref_data = pd.read_pickle(reference_path) # Load reference dataset\n",
    "\n",
    "# Load latest model\n",
    "preprocessor = mlflow.sklearn.load_model(model_uri=f\"models:/{preprocessor_name}/{stage}\")\n",
    "model = mlflow.pyfunc.load_model(model_uri=f\"models:/{model_name}/{stage}\")\n",
    "\n",
    "# Load latest data\n",
    "data = pd.read_pickle(f\"{DATAPATH}/BEL_20.pkl\")\n",
    "\n",
    "# Make target and prediction column for Evidently to work\n",
    "ref_data[\"target\"] = ref_data[\"close_growth\"]\n",
    "ref_data.dropna(inplace=True) # Drop rows with missing values\n",
    "ref_data[\"prediction\"] = model.predict(preprocessor.transform(ref_data)) # Apply both model and preprocessor to reference data\n",
    "\n",
    "data[\"target\"] = data[\"close_growth\"]\n",
    "data.dropna(inplace=True) # Drop rows with missing values\n",
    "data[\"prediction\"] = model.predict(preprocessor.transform(data)) # Apply both model and preprocessor to reference data"
   ]
  },
  {
   "cell_type": "code",
   "execution_count": 64,
   "metadata": {},
   "outputs": [],
   "source": [
    "# Open workspace\n",
    "\n",
    "if os.path.exists(EVIDENTLY_WORKSPACE):\n",
    "    ws = Workspace(EVIDENTLY_WORKSPACE)\n",
    "    project = ws.get_project(project_name) # If workspace exists, open workspace and project\n",
    "else:\n",
    "    ws = Workspace.create(EVIDENTLY_WORKSPACE)\n",
    "    project = ws.create_project(project_name) # If workspace does not exist, create workspace and project\n",
    "\n",
    "    project.dashboard.add_panel(\n",
    "        DashboardPanelCounter(\n",
    "            filter=ReportFilter(metadata_values={}, tag_values=[]),\n",
    "            agg=CounterAgg.NONE,\n",
    "            title=\"Stock Price Growth Rate Prediction\",\n",
    "        )\n",
    "    )\n",
    "\n",
    "    project.dashboard.add_panel(\n",
    "        DashboardPanelPlot(\n",
    "            title=\"Dataset Drift\",\n",
    "            filter=ReportFilter(metadata_values={}, tag_values=[]),\n",
    "            values=[\n",
    "                PanelValue(metric_id=\"DatasetDriftMetric\", field_path=DataDriftTable.fields.share_of_drifted_columns, legend=\"Drift Share\")\n",
    "            ], \n",
    "            plot_type=PlotType.LINE\n",
    "        )\n",
    "    )\n",
    "\n",
    "    project.dashboard.add_panel(\n",
    "        DashboardPanelPlot(\n",
    "            title=\"Target Drift\",\n",
    "            filter=ReportFilter(metadata_values={}, tag_values=[]),\n",
    "            values=[\n",
    "                PanelValue(metric_id=\"ColumnDriftMetric\", field_path=ColumnDriftMetric.fields.drift_score, legend=\"Drift Score\")\n",
    "            ], \n",
    "            plot_type=PlotType.LINE\n",
    "        )\n",
    "    )\n",
    "\n",
    "    project.dashboard.add_panel(\n",
    "    DashboardPanelPlot(\n",
    "        title=\"MAPE\",\n",
    "        filter=ReportFilter(metadata_values={}, tag_values=[]),\n",
    "        values=[\n",
    "        PanelValue(\n",
    "            metric_id=\"RegressionQualityMetric\",\n",
    "            field_path=RegressionQualityMetric.fields.current.mean_abs_perc_error,\n",
    "            legend=\"MAPE\",\n",
    "        ),\n",
    "    ],\n",
    "    plot_type=PlotType.LINE,\n",
    "    size=2,\n",
    "    )\n",
    ")\n",
    "  \n",
    "    project.save()"
   ]
  },
  {
   "cell_type": "code",
   "execution_count": 66,
   "metadata": {},
   "outputs": [
    {
     "name": "stderr",
     "output_type": "stream",
     "text": [
      "/Users/timcosemans/.local/share/virtualenvs/PROJ-Algorithmic-Trading-enWZjsr5/lib/python3.10/site-packages/evidently/calculations/stattests/ks_stattest.py:47: RuntimeWarning:\n",
      "\n",
      "ks_2samp: Exact calculation unsuccessful. Switching to method=asymp.\n",
      "\n",
      "/Users/timcosemans/.local/share/virtualenvs/PROJ-Algorithmic-Trading-enWZjsr5/lib/python3.10/site-packages/evidently/calculations/stattests/ks_stattest.py:47: RuntimeWarning:\n",
      "\n",
      "ks_2samp: Exact calculation unsuccessful. Switching to method=asymp.\n",
      "\n",
      "/Users/timcosemans/.local/share/virtualenvs/PROJ-Algorithmic-Trading-enWZjsr5/lib/python3.10/site-packages/evidently/calculations/stattests/ks_stattest.py:47: RuntimeWarning:\n",
      "\n",
      "ks_2samp: Exact calculation unsuccessful. Switching to method=asymp.\n",
      "\n",
      "/Users/timcosemans/.local/share/virtualenvs/PROJ-Algorithmic-Trading-enWZjsr5/lib/python3.10/site-packages/evidently/calculations/stattests/ks_stattest.py:47: RuntimeWarning:\n",
      "\n",
      "ks_2samp: Exact calculation unsuccessful. Switching to method=asymp.\n",
      "\n",
      "/Users/timcosemans/.local/share/virtualenvs/PROJ-Algorithmic-Trading-enWZjsr5/lib/python3.10/site-packages/evidently/calculations/stattests/ks_stattest.py:47: RuntimeWarning:\n",
      "\n",
      "ks_2samp: Exact calculation unsuccessful. Switching to method=asymp.\n",
      "\n",
      "/Users/timcosemans/.local/share/virtualenvs/PROJ-Algorithmic-Trading-enWZjsr5/lib/python3.10/site-packages/sklearn/metrics/_regression.py:996: UndefinedMetricWarning:\n",
      "\n",
      "R^2 score is not well-defined with less than two samples.\n",
      "\n",
      "/Users/timcosemans/.local/share/virtualenvs/PROJ-Algorithmic-Trading-enWZjsr5/lib/python3.10/site-packages/sklearn/metrics/_regression.py:996: UndefinedMetricWarning:\n",
      "\n",
      "R^2 score is not well-defined with less than two samples.\n",
      "\n",
      "/Users/timcosemans/.local/share/virtualenvs/PROJ-Algorithmic-Trading-enWZjsr5/lib/python3.10/site-packages/sklearn/metrics/_regression.py:996: UndefinedMetricWarning:\n",
      "\n",
      "R^2 score is not well-defined with less than two samples.\n",
      "\n",
      "/Users/timcosemans/.local/share/virtualenvs/PROJ-Algorithmic-Trading-enWZjsr5/lib/python3.10/site-packages/sklearn/metrics/_regression.py:996: UndefinedMetricWarning:\n",
      "\n",
      "R^2 score is not well-defined with less than two samples.\n",
      "\n"
     ]
    }
   ],
   "source": [
    "# Add report to project\n",
    "report = Report(\n",
    "        metrics=[\n",
    "            DataDriftPreset(),\n",
    "            DataQualityPreset(),\n",
    "            TargetDriftPreset(),\n",
    "            RegressionPreset()\n",
    "        ]\n",
    "    )\n",
    "\n",
    "report.run(reference_data=ref_data.reset_index(drop=True), current_data=data.reset_index(drop=True))\n",
    "\n",
    "ws.add_report(project.id, report)"
   ]
  },
  {
   "cell_type": "code",
   "execution_count": 69,
   "metadata": {},
   "outputs": [
    {
     "data": {
      "text/plain": [
       "UUID('f2df9ec7-408d-4a61-99b9-4289a6ee106f')"
      ]
     },
     "execution_count": 69,
     "metadata": {},
     "output_type": "execute_result"
    }
   ],
   "source": [
    "project.id"
   ]
  }
 ],
 "metadata": {
  "kernelspec": {
   "display_name": "PROJ-Algorithmic-Trading-enWZjsr5",
   "language": "python",
   "name": "python3"
  },
  "language_info": {
   "codemirror_mode": {
    "name": "ipython",
    "version": 3
   },
   "file_extension": ".py",
   "mimetype": "text/x-python",
   "name": "python",
   "nbconvert_exporter": "python",
   "pygments_lexer": "ipython3",
   "version": "3.10.9"
  },
  "orig_nbformat": 4
 },
 "nbformat": 4,
 "nbformat_minor": 2
}
