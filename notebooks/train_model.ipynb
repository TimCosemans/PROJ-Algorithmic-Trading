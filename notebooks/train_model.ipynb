{
 "cells": [
  {
   "cell_type": "code",
   "execution_count": 1,
   "metadata": {},
   "outputs": [],
   "source": [
    "import pandas as pd \n",
    "from dotenv import load_dotenv\n",
    "import os\n",
    "\n",
    "import mlflow"
   ]
  },
  {
   "cell_type": "code",
   "execution_count": 20,
   "metadata": {},
   "outputs": [],
   "source": [
    "# get environment variables\n",
    "load_dotenv(dotenv_path=\"../.env\")\n",
    "DATAPATH = os.getenv(\"DATAPATH\")\n",
    "MLFLOW_TRACKING_URI = os.getenv(\"MLFLOW_TRACKING_URI\")\n",
    "\n",
    "# Set other variables\n",
    "train_ratio = 0.8\n",
    "n_lags_used = 3"
   ]
  },
  {
   "cell_type": "code",
   "execution_count": 40,
   "metadata": {},
   "outputs": [],
   "source": [
    "data = pd.read_pickle(f\"{DATAPATH}/BEL_20.pkl\").sort_values(\"Date\") # Load data\n",
    "\n",
    "# Assuming the dataset is sorted by date, you can split by index\n",
    "train_size = int(train_ratio * len(data))  \n",
    "train_data = data.iloc[:train_size]\n",
    "test_data = data.iloc[train_size:]\n",
    "\n",
    "# Create features and target\n",
    "y_train = train_data.sort_values([\"ticker\", \"Date\"]).filter(items=[\"close_growth\"]).reset_index(drop=True)\n",
    "complete_train = y_train.notna().to_numpy().flatten()\n",
    "y_train = y_train[complete_train]\n",
    "X_train = train_data.sort_values([\"ticker\", \"Date\"]).filter(regex=\"close_growth_lag|ticker\").reset_index(drop=True)[complete_train]\n",
    "\n",
    "y_test = test_data.sort_values([\"ticker\", \"Date\"]).filter(items=[\"close_growth\"]).reset_index(drop=True)\n",
    "complete_test = y_test.notna().to_numpy().flatten()\n",
    "y_test = y_test[complete_test] # Remove NaNs from target \n",
    "X_test = test_data.sort_values([\"ticker\", \"Date\"]).filter(regex=\"close_growth_lag|ticker\").reset_index(drop=True)[complete_test] # Remove corresponding NaNs from features"
   ]
  },
  {
   "cell_type": "code",
   "execution_count": 4,
   "metadata": {},
   "outputs": [
    {
     "name": "stderr",
     "output_type": "stream",
     "text": [
      "2023/08/02 14:41:34 INFO mlflow.tracking.fluent: Experiment with name 'stock-prediction-BEL-20' does not exist. Creating a new experiment.\n"
     ]
    },
    {
     "data": {
      "text/plain": [
       "<Experiment: artifact_location='/Users/timcosemans/Library/CloudStorage/OneDrive-Persoonlijk/Projects/PROJ-Algorithmic-Trading/mlruns/228838766029681492', creation_time=1690980094130, experiment_id='228838766029681492', last_update_time=1690980094130, lifecycle_stage='active', name='stock-prediction-BEL-20', tags={}>"
      ]
     },
     "execution_count": 4,
     "metadata": {},
     "output_type": "execute_result"
    }
   ],
   "source": [
    "# Create scikit-learn pipeline and tracking with MLflow\n",
    "\n",
    "mlflow.set_tracking_uri(MLFLOW_TRACKING_URI)\n",
    "mlflow.set_experiment(\"stock-prediction-BEL-20\")"
   ]
  },
  {
   "cell_type": "code",
   "execution_count": 43,
   "metadata": {},
   "outputs": [],
   "source": [
    "X_train_reduced = X_train_reduced.dropna()\n",
    "    \n",
    "\n"
   ]
  },
  {
   "cell_type": "code",
   "execution_count": 44,
   "metadata": {},
   "outputs": [],
   "source": [
    "y_train_reduced = y_train.iloc[X_train_reduced.index, :]"
   ]
  },
  {
   "cell_type": "code",
   "execution_count": 48,
   "metadata": {},
   "outputs": [
    {
     "name": "stderr",
     "output_type": "stream",
     "text": [
      "/Users/timcosemans/.local/share/virtualenvs/PROJ-Algorithmic-Trading-enWZjsr5/lib/python3.11/site-packages/sklearn/base.py:464: UserWarning: X does not have valid feature names, but LinearRegression was fitted with feature names\n",
      "  warnings.warn(\n"
     ]
    }
   ],
   "source": [
    "from sklearn.linear_model import LinearRegression\n",
    "from sklearn.pipeline import Pipeline\n",
    "from sklearn.preprocessing import OneHotEncoder\n",
    "from sklearn.compose import ColumnTransformer\n",
    "from sklearn.metrics import mean_squared_error, r2_score, mean_absolute_percentage_error\n",
    "\n",
    "with mlflow.start_run() as run: \n",
    "\n",
    "    # Make dummies for categorical features\n",
    "    cat_features = [\"ticker\"]\n",
    "    cat_transformer = Pipeline(steps=[(\"create_dummies\", OneHotEncoder(handle_unknown=\"ignore\"))])\n",
    "\n",
    "    num_features = [f\"close_growth_lag_{i}\" for i in range(1, n_lags_used + 1)]\n",
    "\n",
    "    preprocessor = ColumnTransformer(transformers=[(\"cat\", cat_transformer, cat_features), \n",
    "                                                   ('num', 'passthrough', num_features)], remainder=\"drop\")\n",
    "\n",
    "    # Delete rows with missing values\n",
    "    X_train_reduced = preprocessor.fit_transform(X_train)\n",
    "    X_train_reduced = pd.DataFrame(X_train_reduced.toarray(), columns=preprocessor.get_feature_names_out(input_features=X_train.columns))\n",
    "    X_train_reduced = X_train_reduced.dropna()\n",
    "    y_train_reduced = y_train.iloc[X_train_reduced.index, :]\n",
    "   \n",
    "    # Log parameters\n",
    "    mlflow.log_param(\"model\", \"linear_regression\")\n",
    "    mlflow.log_param(\"features\", f\"close growth ({n_lags_used} lags) + ticker dummy\")\n",
    "    mlflow.log_param(\"target\", \"close growth\")\n",
    "    mlflow.log_param(\"n\", len(X_train_reduced))\n",
    "\n",
    "    # Fit model\n",
    "    model = LinearRegression()\n",
    "    model.fit(X_train_reduced, y_train_reduced)\n",
    "\n",
    "    # Log model\n",
    "    mlflow.sklearn.log_model(model, \"model\")\n",
    "\n",
    "    # Make predictions\n",
    "    X_test_reduced = preprocessor.transform(X_test)\n",
    "    y_pred = model.predict(X_test_reduced)\n",
    "\n",
    "    # Evaluate model\n",
    "    mse = mean_squared_error(y_test, y_pred)\n",
    "    r2 = r2_score(y_test, y_pred)\n",
    "    mape = mean_absolute_percentage_error(y_test, y_pred)\n",
    "\n",
    "    # Log metrics\n",
    "    mlflow.log_metric(\"mse\", mse)\n",
    "    mlflow.log_metric(\"r2\", r2)\n",
    "    mlflow.log_metric(\"mape\", mape)\n"
   ]
  },
  {
   "cell_type": "code",
   "execution_count": null,
   "metadata": {},
   "outputs": [],
   "source": []
  }
 ],
 "metadata": {
  "kernelspec": {
   "display_name": "PROJ-Algorithmic-Trading-enWZjsr5",
   "language": "python",
   "name": "python3"
  },
  "language_info": {
   "codemirror_mode": {
    "name": "ipython",
    "version": 3
   },
   "file_extension": ".py",
   "mimetype": "text/x-python",
   "name": "python",
   "nbconvert_exporter": "python",
   "pygments_lexer": "ipython3",
   "version": "3.11.4"
  },
  "orig_nbformat": 4
 },
 "nbformat": 4,
 "nbformat_minor": 2
}
