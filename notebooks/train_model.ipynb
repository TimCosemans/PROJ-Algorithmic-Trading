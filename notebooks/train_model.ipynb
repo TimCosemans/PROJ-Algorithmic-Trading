{
 "cells": [
  {
   "cell_type": "code",
   "execution_count": 1,
   "metadata": {},
   "outputs": [],
   "source": [
    "import pandas as pd \n",
    "from dotenv import load_dotenv\n",
    "import os\n",
    "\n",
    "import mlflow\n",
    "from datetime import date\n"
   ]
  },
  {
   "cell_type": "code",
   "execution_count": 98,
   "metadata": {},
   "outputs": [],
   "source": [
    "# get environment variables\n",
    "load_dotenv(dotenv_path=\"../.env\")\n",
    "DATAPATH = os.getenv(\"DATAPATH\")\n",
    "MLFLOW_TRACKING_URI = os.getenv(\"MLFLOW_TRACKING_URI\")\n",
    "\n",
    "# Set other variables\n",
    "train_ratio = 0.8\n",
    "max_n_lags_used = 10\n",
    "experiment_name = f\"stock-prediction-BEL-20-{date.today()}\"\n",
    "model_name = f\"best-model-{date.today()}\"\n",
    "preprocessor_name = f\"preprocessor-{date.today()}\""
   ]
  },
  {
   "cell_type": "code",
   "execution_count": 54,
   "metadata": {},
   "outputs": [],
   "source": [
    "data = pd.read_pickle(f\"{DATAPATH}/BEL_20.pkl\").sort_values(\"Date\") # Load data\n",
    "\n",
    "# Assuming the dataset is sorted by date, you can split by index\n",
    "train_size = int(train_ratio * len(data))  \n",
    "train_data = data.iloc[:train_size]\n",
    "test_data = data.iloc[train_size:]\n",
    "\n",
    "# Create features and target\n",
    "y_train = train_data.sort_values([\"ticker\", \"Date\"]).filter(items=[\"close_growth\"]).reset_index(drop=True)\n",
    "complete_train = y_train.notna().to_numpy().flatten()\n",
    "y_train = y_train[complete_train]\n",
    "X_train = train_data.sort_values([\"ticker\", \"Date\"]).filter(regex=\"close_growth_lag|ticker\").reset_index(drop=True)[complete_train]\n",
    "\n",
    "y_test = test_data.sort_values([\"ticker\", \"Date\"]).filter(items=[\"close_growth\"]).reset_index(drop=True)\n",
    "complete_test = y_test.notna().to_numpy().flatten()\n",
    "y_test = y_test[complete_test] # Remove NaNs from target \n",
    "X_test = test_data.sort_values([\"ticker\", \"Date\"]).filter(regex=\"close_growth_lag|ticker\").reset_index(drop=True)[complete_test] # Remove corresponding NaNs from features"
   ]
  },
  {
   "cell_type": "code",
   "execution_count": 87,
   "metadata": {},
   "outputs": [
    {
     "name": "stderr",
     "output_type": "stream",
     "text": [
      "2023/08/02 20:35:42 INFO mlflow.tracking.fluent: Experiment with name 'stock-prediction-BEL-20-2023-08-02' does not exist. Creating a new experiment.\n"
     ]
    },
    {
     "data": {
      "text/plain": [
       "<Experiment: artifact_location='/Users/timcosemans/Library/CloudStorage/OneDrive-Persoonlijk/Projects/PROJ-Algorithmic-Trading/mlruns/461405004937865291', creation_time=1691001342514, experiment_id='461405004937865291', last_update_time=1691001342514, lifecycle_stage='active', name='stock-prediction-BEL-20-2023-08-02', tags={}>"
      ]
     },
     "execution_count": 87,
     "metadata": {},
     "output_type": "execute_result"
    }
   ],
   "source": [
    "# Create scikit-learn pipeline and tracking with MLflow\n",
    "\n",
    "mlflow.set_tracking_uri(MLFLOW_TRACKING_URI)\n",
    "mlflow.set_experiment(experiment_name)"
   ]
  },
  {
   "cell_type": "code",
   "execution_count": 88,
   "metadata": {},
   "outputs": [],
   "source": [
    "from sklearn.linear_model import LinearRegression\n",
    "from sklearn.pipeline import Pipeline\n",
    "from sklearn.preprocessing import OneHotEncoder\n",
    "from sklearn.compose import ColumnTransformer\n",
    "from sklearn.metrics import mean_squared_error, r2_score, mean_absolute_percentage_error\n",
    "from scipy.sparse import issparse\n",
    "\n",
    "\n",
    "def objective_function(params):\n",
    "    n_lags_used = params[\"n_lags_used\"]\n",
    "    print(f\"n_lags_used: {n_lags_used}\")\n",
    "\n",
    "    with mlflow.start_run() as run: \n",
    "\n",
    "        # Make dummies for categorical features\n",
    "        cat_features = [\"ticker\"]\n",
    "        cat_transformer = Pipeline(steps=[(\"create_dummies\", OneHotEncoder(handle_unknown=\"ignore\"))])\n",
    "\n",
    "        num_features = [f\"close_growth_lag_{i}\" for i in range(1, n_lags_used + 1)]\n",
    "\n",
    "        preprocessor = ColumnTransformer(transformers=[(\"cat\", cat_transformer, cat_features), \n",
    "                                                    ('num', 'passthrough', num_features)], remainder=\"drop\")\n",
    "\n",
    "        \n",
    "        X_train_reduced = preprocessor.fit_transform(X_train)\n",
    "\n",
    "        # Convert to DataFrame (handle both dense and sparse data)\n",
    "        if issparse(X_train_reduced):\n",
    "            X_train_reduced = pd.DataFrame.sparse.from_spmatrix(X_train_reduced, columns=preprocessor.get_feature_names_out(input_features=X_train.columns))\n",
    "        else:\n",
    "            X_train_reduced = pd.DataFrame(X_train_reduced, columns=preprocessor.get_feature_names_out(input_features=X_train.columns))\n",
    "\n",
    "        # Delete rows with missing values\n",
    "        X_train_reduced = X_train_reduced.dropna()\n",
    "        y_train_reduced = y_train.iloc[X_train_reduced.index, :]\n",
    "    \n",
    "        # Log parameters\n",
    "        mlflow.log_param(\"model\", \"linear_regression\")\n",
    "        mlflow.log_param(\"features\", f\"close growth ({n_lags_used} lags) + ticker dummy\")\n",
    "        mlflow.log_param(\"target\", \"close growth\")\n",
    "        mlflow.log_param(\"n\", len(X_train_reduced))\n",
    "        mlflow.log_param(\"n_lags_used\", n_lags_used)\n",
    "\n",
    "        # Fit model\n",
    "        model = LinearRegression()\n",
    "        model.fit(X_train_reduced, y_train_reduced)\n",
    "\n",
    "        # Log model and preprocessor\n",
    "        mlflow.sklearn.log_model(preprocessor, \"preprocessor\")\n",
    "        mlflow.sklearn.log_model(model, \"model\")\n",
    "\n",
    "        # Make predictions\n",
    "        X_test_reduced = preprocessor.transform(X_test)\n",
    "        y_pred = model.predict(X_test_reduced)\n",
    "\n",
    "        # Evaluate model\n",
    "        mse = mean_squared_error(y_test, y_pred)\n",
    "        r2 = r2_score(y_test, y_pred)\n",
    "        mape = mean_absolute_percentage_error(y_test, y_pred)\n",
    "\n",
    "        # Log metrics\n",
    "        mlflow.log_metric(\"mse\", mse)\n",
    "        mlflow.log_metric(\"r2\", r2)\n",
    "        mlflow.log_metric(\"mape\", mape)\n",
    "    \n",
    "    return mape\n"
   ]
  },
  {
   "cell_type": "code",
   "execution_count": 89,
   "metadata": {},
   "outputs": [
    {
     "name": "stdout",
     "output_type": "stream",
     "text": [
      "n_lags_used: 1                                       \n",
      "  0%|          | 0/5 [00:00<?, ?trial/s, best loss=?]"
     ]
    },
    {
     "name": "stderr",
     "output_type": "stream",
     "text": [
      "2023/08/02 20:35:47 WARNING mlflow.sklearn: Model was missing function: predict. Not logging python_function flavor!\n",
      "\n",
      "/Users/timcosemans/.local/share/virtualenvs/PROJ-Algorithmic-Trading-enWZjsr5/lib/python3.11/site-packages/_distutils_hack/__init__.py:18: UserWarning: Distutils was imported before Setuptools, but importing Setuptools also replaces the `distutils` module in `sys.modules`. This may lead to undesirable behaviors or errors. To avoid these issues, avoid using distutils directly, ensure that setuptools is installed in the traditional way (e.g. not an editable install), and/or make sure that setuptools is always imported before distutils.\n",
      "  warnings.warn(\n",
      "\n",
      "/Users/timcosemans/.local/share/virtualenvs/PROJ-Algorithmic-Trading-enWZjsr5/lib/python3.11/site-packages/_distutils_hack/__init__.py:33: UserWarning: Setuptools is replacing distutils.\n",
      "  warnings.warn(\"Setuptools is replacing distutils.\")\n",
      "\n"
     ]
    },
    {
     "name": "stdout",
     "output_type": "stream",
     "text": [
      "n_lags_used: 9                                                                 \n",
      " 20%|██        | 1/5 [00:07<00:28,  7.17s/trial, best loss: 498265285629.76294]"
     ]
    },
    {
     "name": "stderr",
     "output_type": "stream",
     "text": [
      "/Users/timcosemans/.local/share/virtualenvs/PROJ-Algorithmic-Trading-enWZjsr5/lib/python3.11/site-packages/sklearn/base.py:464: UserWarning: X does not have valid feature names, but LinearRegression was fitted with feature names\n",
      "  warnings.warn(\n",
      "\n",
      "2023/08/02 20:35:54 WARNING mlflow.sklearn: Model was missing function: predict. Not logging python_function flavor!\n",
      "\n",
      "/Users/timcosemans/.local/share/virtualenvs/PROJ-Algorithmic-Trading-enWZjsr5/lib/python3.11/site-packages/_distutils_hack/__init__.py:18: UserWarning: Distutils was imported before Setuptools, but importing Setuptools also replaces the `distutils` module in `sys.modules`. This may lead to undesirable behaviors or errors. To avoid these issues, avoid using distutils directly, ensure that setuptools is installed in the traditional way (e.g. not an editable install), and/or make sure that setuptools is always imported before distutils.\n",
      "  warnings.warn(\n",
      "\n",
      "/Users/timcosemans/.local/share/virtualenvs/PROJ-Algorithmic-Trading-enWZjsr5/lib/python3.11/site-packages/_distutils_hack/__init__.py:33: UserWarning: Setuptools is replacing distutils.\n",
      "  warnings.warn(\"Setuptools is replacing distutils.\")\n",
      "\n"
     ]
    },
    {
     "name": "stdout",
     "output_type": "stream",
     "text": [
      "n_lags_used: 2                                                                 \n",
      " 40%|████      | 2/5 [00:13<00:19,  6.46s/trial, best loss: 498265285629.76294]"
     ]
    },
    {
     "name": "stderr",
     "output_type": "stream",
     "text": [
      "/Users/timcosemans/.local/share/virtualenvs/PROJ-Algorithmic-Trading-enWZjsr5/lib/python3.11/site-packages/sklearn/base.py:464: UserWarning: X does not have valid feature names, but LinearRegression was fitted with feature names\n",
      "  warnings.warn(\n",
      "\n",
      "2023/08/02 20:36:00 WARNING mlflow.sklearn: Model was missing function: predict. Not logging python_function flavor!\n",
      "\n",
      "/Users/timcosemans/.local/share/virtualenvs/PROJ-Algorithmic-Trading-enWZjsr5/lib/python3.11/site-packages/_distutils_hack/__init__.py:18: UserWarning: Distutils was imported before Setuptools, but importing Setuptools also replaces the `distutils` module in `sys.modules`. This may lead to undesirable behaviors or errors. To avoid these issues, avoid using distutils directly, ensure that setuptools is installed in the traditional way (e.g. not an editable install), and/or make sure that setuptools is always imported before distutils.\n",
      "  warnings.warn(\n",
      "\n",
      "/Users/timcosemans/.local/share/virtualenvs/PROJ-Algorithmic-Trading-enWZjsr5/lib/python3.11/site-packages/_distutils_hack/__init__.py:33: UserWarning: Setuptools is replacing distutils.\n",
      "  warnings.warn(\"Setuptools is replacing distutils.\")\n",
      "\n"
     ]
    },
    {
     "name": "stdout",
     "output_type": "stream",
     "text": [
      "n_lags_used: 7                                                                 \n",
      " 60%|██████    | 3/5 [00:19<00:12,  6.46s/trial, best loss: 498265285629.76294]"
     ]
    },
    {
     "name": "stderr",
     "output_type": "stream",
     "text": [
      "/Users/timcosemans/.local/share/virtualenvs/PROJ-Algorithmic-Trading-enWZjsr5/lib/python3.11/site-packages/sklearn/base.py:464: UserWarning: X does not have valid feature names, but LinearRegression was fitted with feature names\n",
      "  warnings.warn(\n",
      "\n",
      "2023/08/02 20:36:07 WARNING mlflow.sklearn: Model was missing function: predict. Not logging python_function flavor!\n",
      "\n",
      "/Users/timcosemans/.local/share/virtualenvs/PROJ-Algorithmic-Trading-enWZjsr5/lib/python3.11/site-packages/_distutils_hack/__init__.py:18: UserWarning: Distutils was imported before Setuptools, but importing Setuptools also replaces the `distutils` module in `sys.modules`. This may lead to undesirable behaviors or errors. To avoid these issues, avoid using distutils directly, ensure that setuptools is installed in the traditional way (e.g. not an editable install), and/or make sure that setuptools is always imported before distutils.\n",
      "  warnings.warn(\n",
      "\n",
      "/Users/timcosemans/.local/share/virtualenvs/PROJ-Algorithmic-Trading-enWZjsr5/lib/python3.11/site-packages/_distutils_hack/__init__.py:33: UserWarning: Setuptools is replacing distutils.\n",
      "  warnings.warn(\"Setuptools is replacing distutils.\")\n",
      "\n"
     ]
    },
    {
     "name": "stdout",
     "output_type": "stream",
     "text": [
      "n_lags_used: 4                                                                 \n",
      " 80%|████████  | 4/5 [00:25<00:06,  6.28s/trial, best loss: 498265285629.76294]"
     ]
    },
    {
     "name": "stderr",
     "output_type": "stream",
     "text": [
      "/Users/timcosemans/.local/share/virtualenvs/PROJ-Algorithmic-Trading-enWZjsr5/lib/python3.11/site-packages/sklearn/base.py:464: UserWarning: X does not have valid feature names, but LinearRegression was fitted with feature names\n",
      "  warnings.warn(\n",
      "\n",
      "2023/08/02 20:36:13 WARNING mlflow.sklearn: Model was missing function: predict. Not logging python_function flavor!\n",
      "\n",
      "/Users/timcosemans/.local/share/virtualenvs/PROJ-Algorithmic-Trading-enWZjsr5/lib/python3.11/site-packages/_distutils_hack/__init__.py:18: UserWarning: Distutils was imported before Setuptools, but importing Setuptools also replaces the `distutils` module in `sys.modules`. This may lead to undesirable behaviors or errors. To avoid these issues, avoid using distutils directly, ensure that setuptools is installed in the traditional way (e.g. not an editable install), and/or make sure that setuptools is always imported before distutils.\n",
      "  warnings.warn(\n",
      "\n",
      "/Users/timcosemans/.local/share/virtualenvs/PROJ-Algorithmic-Trading-enWZjsr5/lib/python3.11/site-packages/_distutils_hack/__init__.py:33: UserWarning: Setuptools is replacing distutils.\n",
      "  warnings.warn(\"Setuptools is replacing distutils.\")\n",
      "\n"
     ]
    },
    {
     "name": "stdout",
     "output_type": "stream",
     "text": [
      "100%|██████████| 5/5 [00:32<00:00,  6.42s/trial, best loss: 498265285629.76294]\n"
     ]
    },
    {
     "name": "stderr",
     "output_type": "stream",
     "text": [
      "/Users/timcosemans/.local/share/virtualenvs/PROJ-Algorithmic-Trading-enWZjsr5/lib/python3.11/site-packages/sklearn/base.py:464: UserWarning: X does not have valid feature names, but LinearRegression was fitted with feature names\n",
      "  warnings.warn(\n",
      "\n"
     ]
    },
    {
     "data": {
      "text/plain": [
       "{'n_lags_used': 0}"
      ]
     },
     "execution_count": 89,
     "metadata": {},
     "output_type": "execute_result"
    }
   ],
   "source": [
    "from hyperopt import hp, fmin, tpe, Trials\n",
    "import numpy as np\n",
    "\n",
    "# Define the search space\n",
    "space = {\n",
    "    'n_lags_used': hp.choice('n_lags_used', np.arange(1, max_n_lags_used + 1, dtype=int)),\n",
    "}\n",
    "\n",
    "# Hyperparameter optimization and registration of experiments\n",
    "num_evals = 5\n",
    "trials = Trials()\n",
    "fmin(fn=objective_function, space=space, algo=tpe.suggest, max_evals=num_evals, trials=trials, rstate=np.random.default_rng(42))"
   ]
  },
  {
   "cell_type": "code",
   "execution_count": 93,
   "metadata": {},
   "outputs": [],
   "source": [
    "from mlflow.entities import ViewType\n",
    "\n",
    "# Search for the best model in terms of MAPE\n",
    "run = mlflow.search_runs(\n",
    "    experiment_names=[experiment_name],\n",
    "    filter_string=\"\",\n",
    "    run_view_type=ViewType.ACTIVE_ONLY,\n",
    "    max_results=1,\n",
    "    order_by=[\"metrics.mape ASC\"],\n",
    ")"
   ]
  },
  {
   "cell_type": "code",
   "execution_count": 97,
   "metadata": {},
   "outputs": [],
   "source": [
    "# Get run ID and model/preprocessor URIs\n",
    "run_id = run.run_id[0]\n",
    "model_uri = f\"runs:/{run_id}/model\"\n",
    "preprocessor_uri = f\"runs:/{run_id}/preprocessor\""
   ]
  },
  {
   "cell_type": "code",
   "execution_count": 99,
   "metadata": {},
   "outputs": [
    {
     "name": "stderr",
     "output_type": "stream",
     "text": [
      "Successfully registered model 'best-model-2023-08-02'.\n",
      "2023/08/02 20:49:34 INFO mlflow.tracking._model_registry.client: Waiting up to 300 seconds for model version to finish creation. Model name: best-model-2023-08-02, version 1\n",
      "Created version '1' of model 'best-model-2023-08-02'.\n",
      "Successfully registered model 'preprocessor-2023-08-02'.\n",
      "2023/08/02 20:49:34 INFO mlflow.tracking._model_registry.client: Waiting up to 300 seconds for model version to finish creation. Model name: preprocessor-2023-08-02, version 1\n",
      "Created version '1' of model 'preprocessor-2023-08-02'.\n"
     ]
    }
   ],
   "source": [
    "# Register the model and preprocessor\n",
    "model_details = mlflow.register_model(model_uri=model_uri, name=model_name)\n",
    "preprocessor_details = mlflow.register_model(model_uri=preprocessor_uri, name=preprocessor_name)"
   ]
  },
  {
   "cell_type": "code",
   "execution_count": 103,
   "metadata": {},
   "outputs": [
    {
     "data": {
      "text/plain": [
       "<ModelVersion: aliases=[], creation_timestamp=1691002174569, current_stage='Production', description=('Preprocessor for predicting the stock price change of a BEL 20 company for '\n",
       " 'the next day.'), last_updated_timestamp=1691002581187, name='preprocessor-2023-08-02', run_id='f1743578ef5c4ff4bac40f5e4d7d1a14', run_link=None, source='/Users/timcosemans/Library/CloudStorage/OneDrive-Persoonlijk/Projects/PROJ-Algorithmic-Trading/mlruns/461405004937865291/f1743578ef5c4ff4bac40f5e4d7d1a14/artifacts/preprocessor', status='READY', status_message=None, tags={}, user_id=None, version=1>"
      ]
     },
     "execution_count": 103,
     "metadata": {},
     "output_type": "execute_result"
    }
   ],
   "source": [
    "from mlflow.tracking import MlflowClient\n",
    "client = MlflowClient(tracking_uri=MLFLOW_TRACKING_URI)\n",
    "\n",
    "# Transition to production stage\n",
    "client.transition_model_version_stage(\n",
    "    name=model_details.name,\n",
    "    version=model_details.version,\n",
    "    stage=\"Production\", \n",
    "    archive_existing_versions=True\n",
    ")\n",
    "\n",
    "client.transition_model_version_stage(\n",
    "    name=preprocessor_details.name,\n",
    "    version=preprocessor_details.version,\n",
    "    stage=\"Production\", \n",
    "    archive_existing_versions=True\n",
    ")"
   ]
  }
 ],
 "metadata": {
  "kernelspec": {
   "display_name": "PROJ-Algorithmic-Trading-enWZjsr5",
   "language": "python",
   "name": "python3"
  },
  "language_info": {
   "codemirror_mode": {
    "name": "ipython",
    "version": 3
   },
   "file_extension": ".py",
   "mimetype": "text/x-python",
   "name": "python",
   "nbconvert_exporter": "python",
   "pygments_lexer": "ipython3",
   "version": "3.11.4"
  },
  "orig_nbformat": 4
 },
 "nbformat": 4,
 "nbformat_minor": 2
}
